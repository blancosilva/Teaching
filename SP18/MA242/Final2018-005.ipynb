{
  "cells": [
    {
      "cell_type": "code",
      "source": [
        "from sympy import Derivative, Function, dsolve, cos, sin, tan, sqrt, exp\n",
        "from sympy.abc import x\n",
        "from sympy import init_printing\n",
        "init_printing(use_latex='mathjax')"
      ],
      "outputs": [],
      "execution_count": 1,
      "metadata": {
        "collapsed": false,
        "outputHidden": false,
        "inputHidden": false
      }
    },
    {
      "cell_type": "code",
      "source": [
        "y = Function('y')\n",
        "v = Function('v')"
      ],
      "outputs": [],
      "execution_count": 2,
      "metadata": {
        "collapsed": false,
        "outputHidden": false,
        "inputHidden": false
      }
    },
    {
      "cell_type": "code",
      "source": [
        "p1a = (x**2-y(x)**2)*Derivative(y(x),x)-2*x*y(x)\n",
        "p1b = (2*x*sin(y(x))*cos(y(x)))*Derivative(y(x),x)-4*x**2-sin(y(x))**2\n",
        "p1c = (x**2+4)*Derivative(y(x),x)+3*x*y(x)-x\n",
        "p1d = Derivative(y(x),x,x)-(x+Derivative(y(x),x))**2\n",
        "p1e = y(x)*Derivative(y(x),x,x)-3*Derivative(y(x),x)**2\n",
        "p1f = x**2*Derivative(y(x),x)+2*x*y(x)-5*y(x)**4\n",
        "p1g = Derivative(y(x),x) - sqrt(x+y(x)+1)\n",
        "p1gsub = Derivative(v(x),x)-1-sqrt(v(x))\n",
        "p1h = Derivative(y(x),x,x) + 2*Derivative(y(x),x) + 26*y(x) - 82*cos(4*x)\n",
        "p1i = Derivative(y(x),x,x)+y(x)- tan(x)\n",
        "p1j = Derivative(y(x),x)-6*exp(2*x-y(x))\n",
        "p1 = [p1a, p1b, p1c, p1e, p1f, p1h, p1i, p1j]"
      ],
      "outputs": [],
      "execution_count": 3,
      "metadata": {
        "collapsed": false,
        "outputHidden": false,
        "inputHidden": false
      }
    },
    {
      "cell_type": "code",
      "source": [
        "solutions = [dsolve(eqn, y(x)) for eqn in p1]"
      ],
      "outputs": [],
      "execution_count": 4,
      "metadata": {
        "collapsed": false,
        "outputHidden": false,
        "inputHidden": false
      }
    },
    {
      "cell_type": "code",
      "source": [
        "for solution in solutions:\n",
        "    display(solution)"
      ],
      "outputs": [
        {
          "output_type": "display_data",
          "data": {
            "text/plain": [
              "⎡                 ____________                   ____________⎤\n",
              "⎢                ╱   2      2                   ╱   2      2 ⎥\n",
              "⎢         C₁   ╲╱  C₁  - 4⋅x             C₁   ╲╱  C₁  - 4⋅x  ⎥\n",
              "⎢y(x) = - ── - ───────────────, y(x) = - ── + ───────────────⎥\n",
              "⎣         2           2                  2           2       ⎦"
            ],
            "text/latex": [
              "$$\\left [ y{\\left (x \\right )} = - \\frac{C_{1}}{2} - \\frac{1}{2} \\sqrt{C_{1}^{2} - 4 x^{2}}, \\quad y{\\left (x \\right )} = - \\frac{C_{1}}{2} + \\frac{1}{2} \\sqrt{C_{1}^{2} - 4 x^{2}}\\right ]$$"
            ]
          },
          "metadata": {}
        },
        {
          "output_type": "display_data",
          "data": {
            "text/plain": [
              "⎡             ⎛  ______________⎞                 ⎛  ______________⎞           \n",
              "⎣y(x) = - asin⎝╲╱ x⋅(C₁ + 4⋅x) ⎠ + π, y(x) = asin⎝╲╱ x⋅(C₁ + 4⋅x) ⎠ + π, y(x) \n",
              "\n",
              "       ⎛  ______________⎞             ⎛  ______________⎞⎤\n",
              "= -asin⎝╲╱ x⋅(C₁ + 4⋅x) ⎠, y(x) = asin⎝╲╱ x⋅(C₁ + 4⋅x) ⎠⎦"
            ],
            "text/latex": [
              "$$\\left [ y{\\left (x \\right )} = - \\operatorname{asin}{\\left (\\sqrt{x \\left(C_{1} + 4 x\\right)} \\right )} + \\pi, \\quad y{\\left (x \\right )} = \\operatorname{asin}{\\left (\\sqrt{x \\left(C_{1} + 4 x\\right)} \\right )} + \\pi, \\quad y{\\left (x \\right )} = - \\operatorname{asin}{\\left (\\sqrt{x \\left(C_{1} + 4 x\\right)} \\right )}, \\quad y{\\left (x \\right )} = \\operatorname{asin}{\\left (\\sqrt{x \\left(C_{1} + 4 x\\right)} \\right )}\\right ]$$"
            ]
          },
          "metadata": {}
        },
        {
          "output_type": "display_data",
          "data": {
            "text/plain": [
              "             C₁        1\n",
              "y(x) = ───────────── + ─\n",
              "                 3/2   3\n",
              "         ⎛ 2    ⎞       \n",
              "       3⋅⎝x  + 4⎠       "
            ],
            "text/latex": [
              "$$y{\\left (x \\right )} = \\frac{C_{1}}{3 \\left(x^{2} + 4\\right)^{\\frac{3}{2}}} + \\frac{1}{3}$$"
            ]
          },
          "metadata": {}
        },
        {
          "output_type": "display_data",
          "data": {
            "text/plain": [
              "⎡               ___________                 ___________⎤\n",
              "⎢              ╱     1                     ╱     1     ⎥\n",
              "⎢       -√2⋅  ╱  ─────────           √2⋅  ╱  ───────── ⎥\n",
              "⎢           ╲╱   C₁ + C₂⋅x              ╲╱   C₁ + C₂⋅x ⎥\n",
              "⎢y(x) = ────────────────────, y(x) = ──────────────────⎥\n",
              "⎣                2                           2         ⎦"
            ],
            "text/latex": [
              "$$\\left [ y{\\left (x \\right )} = - \\frac{\\sqrt{2}}{2} \\sqrt{\\frac{1}{C_{1} + C_{2} x}}, \\quad y{\\left (x \\right )} = \\frac{\\sqrt{2}}{2} \\sqrt{\\frac{1}{C_{1} + C_{2} x}}\\right ]$$"
            ]
          },
          "metadata": {}
        },
        {
          "output_type": "display_data",
          "data": {
            "text/plain": [
              "                 1          \n",
              "y(x) = ─────────────────────\n",
              "            ________________\n",
              "           ╱  6 ⎛      15 ⎞ \n",
              "          ╱  x ⋅⎜C₁ + ────⎟ \n",
              "       3 ╱      ⎜        7⎟ \n",
              "       ╲╱       ⎝     7⋅x ⎠ "
            ],
            "text/latex": [
              "$$y{\\left (x \\right )} = \\frac{1}{\\sqrt[3]{x^{6} \\left(C_{1} + \\frac{15}{7 x^{7}}\\right)}}$$"
            ]
          },
          "metadata": {}
        },
        {
          "output_type": "display_data",
          "data": {
            "text/plain": [
              "                                    -x                          \n",
              "y(x) = (C₁⋅sin(5⋅x) + C₂⋅cos(5⋅x))⋅ℯ   + 4⋅sin(4⋅x) + 5⋅cos(4⋅x)"
            ],
            "text/latex": [
              "$$y{\\left (x \\right )} = \\left(C_{1} \\sin{\\left (5 x \\right )} + C_{2} \\cos{\\left (5 x \\right )}\\right) e^{- x} + 4 \\sin{\\left (4 x \\right )} + 5 \\cos{\\left (4 x \\right )}$$"
            ]
          },
          "metadata": {}
        },
        {
          "output_type": "display_data",
          "data": {
            "text/plain": [
              "                   ⎛     log(sin(x) - 1)   log(sin(x) + 1)⎞       \n",
              "y(x) = C₂⋅sin(x) + ⎜C₁ + ─────────────── - ───────────────⎟⋅cos(x)\n",
              "                   ⎝            2                 2       ⎠       "
            ],
            "text/latex": [
              "$$y{\\left (x \\right )} = C_{2} \\sin{\\left (x \\right )} + \\left(C_{1} + \\frac{1}{2} \\log{\\left (\\sin{\\left (x \\right )} - 1 \\right )} - \\frac{1}{2} \\log{\\left (\\sin{\\left (x \\right )} + 1 \\right )}\\right) \\cos{\\left (x \\right )}$$"
            ]
          },
          "metadata": {}
        },
        {
          "output_type": "display_data",
          "data": {
            "text/plain": [
              "          ⎛        2⋅x⎞\n",
              "y(x) = log⎝C₁ + 3⋅ℯ   ⎠"
            ],
            "text/latex": [
              "$$y{\\left (x \\right )} = \\log{\\left (C_{1} + 3 e^{2 x} \\right )}$$"
            ]
          },
          "metadata": {}
        }
      ],
      "execution_count": 5,
      "metadata": {
        "collapsed": false,
        "outputHidden": false,
        "inputHidden": false
      }
    },
    {
      "cell_type": "code",
      "source": [
        "P1a = Derivative(y(x),x)+y(x)*tan(x)-cos(x)"
      ],
      "outputs": [],
      "execution_count": 6,
      "metadata": {
        "collapsed": false,
        "outputHidden": false,
        "inputHidden": false
      }
    },
    {
      "cell_type": "code",
      "source": [
        "dsolve(P1a,y(x))"
      ],
      "outputs": [
        {
          "output_type": "execute_result",
          "execution_count": 7,
          "data": {
            "text/plain": [
              "          __________ ⎛     ⌠                                 ⎞\n",
              "         ╱     2     ⎜     ⎮      y(x)⋅tan(x) - cos(x)       ⎟\n",
              "       ╲╱  -cos (x) ⋅⎜C₁ + ⎮ ───────────────────────────── dx⎟\n",
              "                     ⎜     ⎮   ___________________________   ⎟\n",
              "                     ⎜     ⎮ ╲╱ (sin(x) - 1)⋅(sin(x) + 1)    ⎟\n",
              "                     ⎝     ⌡                                 ⎠\n",
              "y(x) = ───────────────────────────────────────────────────────\n",
              "                    __________ ⌠                              \n",
              "                   ╱     2     ⎮     tan(x)                   \n",
              "                 ╲╱  -cos (x) ⋅⎮ ───────────── dx - 1         \n",
              "                               ⎮    __________                \n",
              "                               ⎮   ╱     2                    \n",
              "                               ⎮ ╲╱  -cos (x)                 \n",
              "                               ⌡                              "
            ],
            "text/latex": [
              "$$y{\\left (x \\right )} = \\frac{\\sqrt{- \\cos^{2}{\\left (x \\right )}} \\left(C_{1} + \\int \\frac{y{\\left (x \\right )} \\tan{\\left (x \\right )} - \\cos{\\left (x \\right )}}{\\sqrt{\\left(\\sin{\\left (x \\right )} - 1\\right) \\left(\\sin{\\left (x \\right )} + 1\\right)}}\\, dx\\right)}{\\sqrt{- \\cos^{2}{\\left (x \\right )}} \\int \\frac{\\tan{\\left (x \\right )}}{\\sqrt{- \\cos^{2}{\\left (x \\right )}}}\\, dx - 1}$$"
            ]
          },
          "metadata": {}
        }
      ],
      "execution_count": 7,
      "metadata": {
        "collapsed": false,
        "outputHidden": false,
        "inputHidden": false
      }
    },
    {
      "cell_type": "code",
      "source": [
        " P2a = Derivative(y(x),x,x)+y(x)-1/cos(x)**3"
      ],
      "outputs": [],
      "execution_count": 8,
      "metadata": {
        "collapsed": false,
        "outputHidden": false,
        "inputHidden": false
      }
    },
    {
      "cell_type": "code",
      "source": [
        "dsolve(P2a,y(x))"
      ],
      "outputs": [
        {
          "output_type": "execute_result",
          "execution_count": 9,
          "data": {
            "text/plain": [
              "                                                      2   \n",
              "                   ⎛            1       ⎞          sin (x)\n",
              "y(x) = C₂⋅sin(x) + ⎜C₁ + ───────────────⎟⋅cos(x) + ───────\n",
              "                   ⎜       ⎛   2       ⎞⎟           cos(x)\n",
              "                   ⎝     2⋅⎝sin (x) - 1⎠⎠                 "
            ],
            "text/latex": [
              "$$y{\\left (x \\right )} = C_{2} \\sin{\\left (x \\right )} + \\left(C_{1} + \\frac{1}{2 \\left(\\sin^{2}{\\left (x \\right )} - 1\\right)}\\right) \\cos{\\left (x \\right )} + \\frac{\\sin^{2}{\\left (x \\right )}}{\\cos{\\left (x \\right )}}$$"
            ]
          },
          "metadata": {}
        }
      ],
      "execution_count": 9,
      "metadata": {
        "collapsed": false,
        "outputHidden": false,
        "inputHidden": false
      }
    },
    {
      "cell_type": "code",
      "source": [],
      "outputs": [],
      "execution_count": null,
      "metadata": {
        "collapsed": false,
        "outputHidden": false,
        "inputHidden": false
      }
    }
  ],
  "metadata": {
    "kernel_info": {
      "name": "python3"
    },
    "kernelspec": {
      "name": "python3",
      "language": "python",
      "display_name": "Python 3"
    },
    "language_info": {
      "name": "python",
      "version": "3.6.5",
      "mimetype": "text/x-python",
      "codemirror_mode": {
        "name": "ipython",
        "version": 3
      },
      "pygments_lexer": "ipython3",
      "nbconvert_exporter": "python",
      "file_extension": ".py"
    },
    "nteract": {
      "version": "0.8.4"
    }
  },
  "nbformat": 4,
  "nbformat_minor": 4
}