{
  "cells": [
    {
      "cell_type": "markdown",
      "source": [
        "# The Sudoku Problem Formulation for the PulP Modeller\n",
        "\n",
        "### Authors: Antony Phillips, Stuart Mitchell\n",
        "\nImport `Pulp` modeler functions"
      ],
      "metadata": {}
    },
    {
      "cell_type": "code",
      "source": [
        "from pulp import LpProblem, LpMinimize, LpVariable, LpInteger, lpSum, value"
      ],
      "outputs": [],
      "execution_count": 1,
      "metadata": {
        "collapsed": false,
        "outputHidden": false,
        "inputHidden": false
      }
    },
    {
      "cell_type": "markdown",
      "source": [
        "We create a list of strings from \"1\" to \"9\".  The `Vals`, `Rows` and `Cols` sequences all follow the same form."
      ],
      "metadata": {}
    },
    {
      "cell_type": "code",
      "source": [
        "Sequence = [\"1\", \"2\", \"3\", \"4\", \"5\", \"6\", \"7\", \"8\", \"9\"]\n",
        "\n",
        "Vals = Sequence\n",
        "Rows = Sequence\n",
        "Cols = Sequence"
      ],
      "outputs": [],
      "execution_count": 2,
      "metadata": {
        "collapsed": false,
        "outputHidden": false,
        "inputHidden": false
      }
    },
    {
      "cell_type": "markdown",
      "source": [
        "We create a list (`Boxes`) with the row and column index of each square in each box."
      ],
      "metadata": {}
    },
    {
      "cell_type": "code",
      "source": [
        "Boxes =[]\n",
        "for i in range(3):\n",
        "    for j in range(3):\n",
        "        Boxes += [[(Rows[3*i+k],Cols[3*j+l]) for k in range(3) for l in range(3)]]"
      ],
      "outputs": [],
      "execution_count": 3,
      "metadata": {
        "collapsed": false,
        "outputHidden": false,
        "inputHidden": false
      }
    },
    {
      "cell_type": "markdown",
      "source": [
        "We store the data for this problem in `prob`, a `Pulp.LpProblem` structure. We craft its variables from `Vals`, `Rows` and `Cols`, and we add an arbitrary objective function, say $f(\\boldsymbol{x})=0$.   "
      ],
      "metadata": {}
    },
    {
      "cell_type": "code",
      "source": [
        "prob = LpProblem(\"Sudoku Problem\", LpMinimize)\n",
        "\n",
        "choices = LpVariable.dicts(\"Choice\", (Vals,Rows,Cols), 0, 1, LpInteger)\n",
        "\nprob += 0,\"Arbitrary Objective Function\""
      ],
      "outputs": [],
      "execution_count": 4,
      "metadata": {}
    },
    {
      "cell_type": "markdown",
      "source": [
        "We proceed to include all the constraints:\n",
        "$$ \\sum_{k=1}^9 \\sum_{\\ell=1}^9 x_{j,k,l} = 1 \\text{ for all }1\\leq j \\leq 9 \\text{ (the pilars add up to }1)$$\n",
        "$$ \\sum_{j=1}^9 \\sum_{\\ell=1}^9 x_{j,k,l} = 1 \\text{ for all }1\\leq k \\leq 9 \\text{ (the rows add up to }1)$$\n",
        "$$ \\sum_{j=1}^9 \\sum_{k=1}^9 x_{j,k,l} = 1 \\text{ for all }1\\leq \\ell \\leq 9 \\text{ (the columns add up to }1)$$\n",
        "$$ \\sum_{k=3\\lambda}^{3(\\lambda+1)} \\sum_{\\ell=3\\mu}^{3(\\mu+1)} x_{j,k,l} = 1 \\text{ for all } 1\\leq j \\leq 9 \\text{ and all }0 \\leq \\lambda,\\mu \\leq 2 \\text{ (those }3\\times 3 \\text{ boxes add up to }1)$$"
      ],
      "metadata": {
        "collapsed": false,
        "outputHidden": false,
        "inputHidden": false
      }
    },
    {
      "cell_type": "code",
      "source": [
        "for r in Rows:\n",
        "    for c in Cols:\n",
        "        prob += lpSum([choices[v][r][c] for v in Vals]) == 1,\"\"\n",
        "        \n",
        "for v in Vals:\n",
        "    for r in Rows:\n",
        "        prob += lpSum([choices[v][r][c] for c in Cols]) == 1,\"\"        \n",
        "    for c in Cols:\n",
        "        prob += lpSum([choices[v][r][c] for r in Rows]) == 1,\"\"\n",
        "    for b in Boxes:\n",
        "        prob += lpSum([choices[v][r][c] for (r,c) in b]) == 1,\"\""
      ],
      "outputs": [],
      "execution_count": 5,
      "metadata": {}
    },
    {
      "cell_type": "markdown",
      "source": [
        "And finally, each starting number on the Sudoku puzzle gives us an equality constraint:\n",
        "\n![](/Users/francisco/Dropbox/Documents/Teaching/FA17/MA524/Extras/wikisudokuproblem.jpg \"blah\")"
      ],
      "metadata": {
        "collapsed": false,
        "outputHidden": false,
        "inputHidden": false
      }
    },
    {
      "cell_type": "code",
      "source": [
        "prob += choices[\"5\"][\"1\"][\"1\"] == 1,\"\"\n",
        "prob += choices[\"6\"][\"2\"][\"1\"] == 1,\"\"\n",
        "prob += choices[\"8\"][\"4\"][\"1\"] == 1,\"\"\n",
        "prob += choices[\"4\"][\"5\"][\"1\"] == 1,\"\"\n",
        "prob += choices[\"7\"][\"6\"][\"1\"] == 1,\"\"\n",
        "prob += choices[\"3\"][\"1\"][\"2\"] == 1,\"\"\n",
        "prob += choices[\"9\"][\"3\"][\"2\"] == 1,\"\"\n",
        "prob += choices[\"6\"][\"7\"][\"2\"] == 1,\"\"\n",
        "prob += choices[\"8\"][\"3\"][\"3\"] == 1,\"\"\n",
        "prob += choices[\"1\"][\"2\"][\"4\"] == 1,\"\"\n",
        "prob += choices[\"8\"][\"5\"][\"4\"] == 1,\"\"\n",
        "prob += choices[\"4\"][\"8\"][\"4\"] == 1,\"\"\n",
        "prob += choices[\"7\"][\"1\"][\"5\"] == 1,\"\"\n",
        "prob += choices[\"9\"][\"2\"][\"5\"] == 1,\"\"\n",
        "prob += choices[\"6\"][\"4\"][\"5\"] == 1,\"\"\n",
        "prob += choices[\"2\"][\"6\"][\"5\"] == 1,\"\"\n",
        "prob += choices[\"1\"][\"8\"][\"5\"] == 1,\"\"\n",
        "prob += choices[\"8\"][\"9\"][\"5\"] == 1,\"\"\n",
        "prob += choices[\"5\"][\"2\"][\"6\"] == 1,\"\"\n",
        "prob += choices[\"3\"][\"5\"][\"6\"] == 1,\"\"\n",
        "prob += choices[\"9\"][\"8\"][\"6\"] == 1,\"\"\n",
        "prob += choices[\"2\"][\"7\"][\"7\"] == 1,\"\"\n",
        "prob += choices[\"6\"][\"3\"][\"8\"] == 1,\"\"\n",
        "prob += choices[\"8\"][\"7\"][\"8\"] == 1,\"\"\n",
        "prob += choices[\"7\"][\"9\"][\"8\"] == 1,\"\"\n",
        "prob += choices[\"3\"][\"4\"][\"9\"] == 1,\"\"\n",
        "prob += choices[\"1\"][\"5\"][\"9\"] == 1,\"\"\n",
        "prob += choices[\"6\"][\"6\"][\"9\"] == 1,\"\"\n",
        "prob += choices[\"5\"][\"8\"][\"9\"] == 1,\"\""
      ],
      "outputs": [],
      "execution_count": 6,
      "metadata": {}
    },
    {
      "cell_type": "markdown",
      "source": [
        "And that's all.  We can now solve with `prob.solve()` and proceed to print the results."
      ],
      "metadata": {}
    },
    {
      "cell_type": "code",
      "source": [
        "prob.solve()\n",
        "\n",
        "stringout = \"\"\n",
        "for r in Rows:\n",
        "    if r == \"1\" or r == \"4\" or r == \"7\": \n",
        "        print(\"+-------+-------+-------+\")\n",
        "    for c in Cols:\n",
        "        for v in Vals:\n",
        "            if value(choices[v][r][c])==1:\n",
        "                if c == \"1\" or c == \"4\" or c ==\"7\": \n",
        "                    stringout += \"| \"\n",
        "                stringout += v + \" \"\n",
        "                if c == \"9\": \n",
        "                    print(stringout + \"|\")\n",
        "                    stringout = \"\"\n",
        "print(\"+-------+-------+-------+\") "
      ],
      "outputs": [
        {
          "output_type": "stream",
          "name": "stdout",
          "text": [
            "+-------+-------+-------+\n",
            "| 5 3 4 | 6 7 8 | 9 1 2 |\n",
            "| 6 7 2 | 1 9 5 | 3 4 8 |\n",
            "| 1 9 8 | 3 4 2 | 5 6 7 |\n",
            "+-------+-------+-------+\n",
            "| 8 5 9 | 7 6 1 | 4 2 3 |\n",
            "| 4 2 6 | 8 5 3 | 7 9 1 |\n",
            "| 7 1 3 | 9 2 4 | 8 5 6 |\n",
            "+-------+-------+-------+\n",
            "| 9 6 1 | 5 3 7 | 2 8 4 |\n",
            "| 2 8 7 | 4 1 9 | 6 3 5 |\n",
            "| 3 4 5 | 2 8 6 | 1 7 9 |\n",
            "+-------+-------+-------+\n"
          ]
        }
      ],
      "execution_count": 7,
      "metadata": {}
    },
    {
      "cell_type": "code",
      "source": [],
      "outputs": [],
      "execution_count": 8,
      "metadata": {
        "collapsed": false,
        "outputHidden": false,
        "inputHidden": false
      }
    }
  ],
  "metadata": {
    "kernelspec": {
      "name": "python3",
      "language": "python",
      "display_name": "Python 3"
    },
    "kernel_info": {
      "name": "python3"
    },
    "language_info": {
      "name": "python",
      "version": "3.6.3",
      "mimetype": "text/x-python",
      "codemirror_mode": {
        "name": "ipython",
        "version": 3
      },
      "pygments_lexer": "ipython3",
      "nbconvert_exporter": "python",
      "file_extension": ".py"
    },
    "nteract": {
      "version": "0.4.3"
    }
  },
  "nbformat": 4,
  "nbformat_minor": 4
}