{
  "cells": [
    {
      "cell_type": "code",
      "source": [
        "from sympy.abc import x,y\n",
        "from sympy import Matrix, solve, simplify\n",
        "from sympy.tensor.array import derive_by_array"
      ],
      "outputs": [],
      "execution_count": 8,
      "metadata": {
        "collapsed": false,
        "outputHidden": false,
        "inputHidden": false
      }
    },
    {
      "cell_type": "code",
      "source": [
        "from sympy import init_printing\n",
        "init_printing()"
      ],
      "outputs": [],
      "execution_count": 2,
      "metadata": {
        "collapsed": false,
        "outputHidden": false,
        "inputHidden": false
      }
    },
    {
      "cell_type": "code",
      "source": [
        "R = (1-x)**2 + (y-x**2)**2\n",
        "def RR(x,y): return (1-x)**2 + (y-x**2)**2\n",
        "f = Matrix(derive_by_array(R, [x,y]))\n",
        "A = Matrix(2,2,derive_by_array(f, [x,y]))\n",
        "B = A.inv()"
      ],
      "outputs": [],
      "execution_count": 3,
      "metadata": {
        "collapsed": false,
        "outputHidden": false,
        "inputHidden": false
      }
    },
    {
      "cell_type": "code",
      "source": [
        "G = Matrix([x,y])-B*f\n",
        "simplify(G)"
      ],
      "outputs": [
        {
          "output_type": "execute_result",
          "execution_count": 10,
          "data": {
            "text/plain": [
              "⎡       3                ⎤\n",
              "⎢    2⋅x  - 2⋅x⋅y + 1    ⎥\n",
              "⎢    ────────────────    ⎥\n",
              "⎢        2               ⎥\n",
              "⎢     2⋅x  - 2⋅y + 1     ⎥\n",
              "⎢                        ⎥\n",
              "⎢  ⎛   3                ⎞⎥\n",
              "⎢x⋅⎝2⋅x  - 2⋅x⋅y - x + 2⎠⎥\n",
              "⎢────────────────────────⎥\n",
              "⎢        2               ⎥\n",
              "⎣     2⋅x  - 2⋅y + 1     ⎦"
            ],
            "image/png": "[encoded data removed]",
            "text/latex": [
              "$$\\left[\\begin{matrix}\\frac{2 x^{3} - 2 x y + 1}{2 x^{2} - 2 y + 1}\\\\\\frac{x \\left(2 x^{3} - 2 x y - x + 2\\right)}{2 x^{2} - 2 y + 1}\\end{matrix}\\right]$$"
            ]
          },
          "metadata": {}
        }
      ],
      "execution_count": 10,
      "metadata": {
        "collapsed": false,
        "outputHidden": false,
        "inputHidden": false
      }
    },
    {
      "cell_type": "code",
      "source": [
        "simplify(f)"
      ],
      "outputs": [
        {
          "output_type": "execute_result",
          "execution_count": 11,
          "data": {
            "text/plain": [
              "⎡    ⎛ 2    ⎞          ⎤\n",
              "⎢4⋅x⋅⎝x  - y⎠ + 2⋅x - 2⎥\n",
              "⎢                      ⎥\n",
              "⎢          2           ⎥\n",
              "⎣     - 2⋅x  + 2⋅y     ⎦"
            ],
            "image/png": "[encoded data removed]",
            "text/latex": [
              "$$\\left[\\begin{matrix}4 x \\left(x^{2} - y\\right) + 2 x - 2\\\\- 2 x^{2} + 2 y\\end{matrix}\\right]$$"
            ]
          },
          "metadata": {}
        }
      ],
      "execution_count": 11,
      "metadata": {
        "collapsed": false,
        "outputHidden": false,
        "inputHidden": false
      }
    },
    {
      "cell_type": "code",
      "source": [
        "def recursive_output(x0,y0,steps):\n",
        "    output  = \"\\\\begin{tabular}{|c|c|c|} \\\\hline \\n\"\n",
        "    output += \"$n$ & $x_n$ & $y_n$ \\\\\\\\ \\hline \\hline \\n\"\n",
        "    output += (\"$0$ & $%1.8f$ & $%1.8f$ \\\\\\\\ \\\\hline \\n\" % (x0, y0))\n",
        "    for step in range(steps):\n",
        "        xn,yn=G.subs({x:x0, y:y0})\n",
        "        output += (\"$%d$ & $%1.8f$ & $%1.8f$ \\\\\\\\ \\\\hline \\n\" % (step+1, xn, yn))\n",
        "        x0,y0=xn,yn\n",
        "    output += \"\\end{tabular}\"\n",
        "    return output"
      ],
      "outputs": [],
      "execution_count": 5,
      "metadata": {
        "collapsed": false,
        "outputHidden": false,
        "inputHidden": false
      }
    },
    {
      "cell_type": "code",
      "source": [
        "print(recursive_output(-2,2,9))"
      ],
      "outputs": [],
      "execution_count": 6,
      "metadata": {
        "collapsed": false,
        "outputHidden": false,
        "inputHidden": false
      }
    },
    {
      "cell_type": "code",
      "source": [
        "def recursive(x0,y0,steps):\n",
        "    outputx = [x0]\n",
        "    outputy = [y0]\n",
        "    for step in range(steps):\n",
        "        xn,yn = G.subs({x:x0, y:y0})\n",
        "        outputx.append(xn)\n",
        "        outputy.append(yn)\n",
        "        x0,y0 = xn,yn\n",
        "    return outputx, outputy"
      ],
      "outputs": [],
      "execution_count": 7,
      "metadata": {
        "collapsed": false,
        "outputHidden": false,
        "inputHidden": false
      }
    },
    {
      "cell_type": "code",
      "source": [
        "ox1,oy1=recursive(3.5,2.1,7)\n",
        "ox2,oy2=recursive(-3.9,-2.3,9)\n",
        "ox3,oy3 = recursive(-2,2,6)\n",
        "\n"
      ],
      "outputs": [],
      "execution_count": 8,
      "metadata": {
        "collapsed": false,
        "outputHidden": false,
        "inputHidden": false
      }
    },
    {
      "cell_type": "code",
      "source": [
        "import numpy as np, matplotlib.pyplot as plt\n",
        "from mpl_toolkits.mplot3d import Axes3D\n",
        "\nplt.xkcd();"
      ],
      "outputs": [],
      "execution_count": 9,
      "metadata": {
        "collapsed": false,
        "outputHidden": false,
        "inputHidden": false
      }
    },
    {
      "cell_type": "code",
      "source": [
        "x = np.linspace(-2.1,2)\n",
        "y = np.linspace(-2.1,3)\n",
        "X,Y = np.meshgrid(x,y)\n",
        "\n",
        "plt.figure()\n",
        "# plt.axes(aspect='equal')\n",
        "\n",
        "CS = plt.contour(X, Y, RR(X,Y), levels=[0.25,0.5,1,2,4,6,8,12,16,20], colors='k')\n",
        "plt.clabel(CS, fontsize=9, inline=1)\n",
        "#plt.plot(ox1,oy1,'r')\n",
        "#plt.plot(ox1,oy1,'or')\n",
        "#plt.plot(ox2,oy2,'b')\n",
        "#plt.plot(ox2,oy2,'ob')\n",
        "plt.plot(ox3,oy3,'r')\n",
        "plt.plot(ox3,oy3,'or')\n",
        "plt.title(\"Convergence to critical points: \\n Rosenbrock function\")\n",
        "plt.show()"
      ],
      "outputs": [],
      "execution_count": 10,
      "metadata": {
        "collapsed": false,
        "outputHidden": false,
        "inputHidden": false
      }
    }
  ],
  "metadata": {
    "kernelspec": {
      "name": "python3",
      "language": "python",
      "display_name": "Python 3"
    },
    "kernel_info": {
      "name": "python3"
    },
    "language_info": {
      "name": "python",
      "version": "3.6.2",
      "mimetype": "text/x-python",
      "codemirror_mode": {
        "name": "ipython",
        "version": 3
      },
      "pygments_lexer": "ipython3",
      "nbconvert_exporter": "python",
      "file_extension": ".py"
    }
  },
  "nbformat": 4,
  "nbformat_minor": 4
}